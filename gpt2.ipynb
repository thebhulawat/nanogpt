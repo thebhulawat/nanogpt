{
 "cells": [
  {
   "cell_type": "code",
   "execution_count": 2,
   "id": "cddb8c57-b7d7-430f-ac61-45488b7b5bab",
   "metadata": {},
   "outputs": [],
   "source": [
    "import tiktoken "
   ]
  },
  {
   "cell_type": "code",
   "execution_count": 3,
   "id": "13d98e13-906d-4d63-8cd9-745ab0fe164f",
   "metadata": {},
   "outputs": [
    {
     "data": {
      "text/plain": [
       "[6151, 1070, 420, 374, 308, 13005, 503, 2192, 45]"
      ]
     },
     "execution_count": 3,
     "metadata": {},
     "output_type": "execute_result"
    }
   ],
   "source": [
    "encoder = tiktoken.encoding_for_model('gpt-4')  \n",
    "x = encoder.encode('hi there this is naman jaiN') \n",
    "x"
   ]
  },
  {
   "cell_type": "code",
   "execution_count": 4,
   "id": "f8b1ffcc-99ce-4a15-8434-149e14b9a2b2",
   "metadata": {},
   "outputs": [
    {
     "name": "stdout",
     "output_type": "stream",
     "text": [
      "1115394\n",
      "First Citi\n"
     ]
    }
   ],
   "source": [
    "with open('input.txt', 'r', encoding = 'utf-8') as f: \n",
    "    text = f.read()\n",
    "print(len(text))\n",
    "print(text[:10])"
   ]
  },
  {
   "cell_type": "code",
   "execution_count": 5,
   "id": "4851820b-a0c4-4429-bef2-02251961cdc0",
   "metadata": {},
   "outputs": [
    {
     "name": "stdout",
     "output_type": "stream",
     "text": [
      "65\n",
      "[46, 47, 1, 58, 46, 43, 56, 43]\n",
      "naman jain\n"
     ]
    }
   ],
   "source": [
    "chars = sorted(set(list(text))) \n",
    "stoi =  {i : ch for ch, i in enumerate(chars)}\n",
    "itos = {i: ch for ch, i in stoi.items()}\n",
    "vocab_size = len(itos)\n",
    "#encode = lambda s: [stoi[char] for char in s]\n",
    "encode = lambda s: [stoi[c] for c in s] \n",
    "decode = lambda s: ''.join([itos[ix] for ix in s])\n",
    "print(vocab_size)\n",
    "print(encode(\"hi there\"))\n",
    "print(decode(encode('naman jain')))\n"
   ]
  },
  {
   "cell_type": "code",
   "execution_count": 6,
   "id": "f126cae1-64da-43c9-ade1-9b6432a63472",
   "metadata": {},
   "outputs": [
    {
     "name": "stdout",
     "output_type": "stream",
     "text": [
      "torch.Size([1115394]) torch.int64\n",
      "tensor([18, 47, 56, 57, 58,  1, 15, 47, 58, 47, 64, 43, 52, 10,  0, 14, 43, 44,\n",
      "        53, 56, 43,  1, 61, 43,  1, 54, 56, 53, 41, 43, 43, 42,  1, 39, 52, 63,\n",
      "         1, 44, 59, 56])\n"
     ]
    }
   ],
   "source": [
    "import torch \n",
    "data = torch.tensor(encode(text), dtype = torch.long)\n",
    "print(data.shape, data.dtype)\n",
    "print(data[:40])"
   ]
  },
  {
   "cell_type": "code",
   "execution_count": 7,
   "id": "ef67246c-0f71-4de1-80a8-1bc07b0142e3",
   "metadata": {},
   "outputs": [
    {
     "name": "stdout",
     "output_type": "stream",
     "text": [
      "torch.Size([1003854]) torch.Size([111540])\n"
     ]
    }
   ],
   "source": [
    "n = int(0.9 * data.shape[0])\n",
    "train_data = data[:n]\n",
    "val_data = data[n:]\n",
    "print(train_data.shape, val_data.shape)"
   ]
  },
  {
   "cell_type": "code",
   "execution_count": 8,
   "id": "cfb03b7b-96df-405c-bdc2-40d2c3b8ce81",
   "metadata": {},
   "outputs": [
    {
     "data": {
      "text/plain": [
       "tensor([18, 47, 56, 57, 58,  1, 15, 47, 58])"
      ]
     },
     "execution_count": 8,
     "metadata": {},
     "output_type": "execute_result"
    }
   ],
   "source": [
    "block_size = 8 \n",
    "context_length = 8 \n",
    "train_data[:context_length +1] "
   ]
  },
  {
   "cell_type": "code",
   "execution_count": 9,
   "id": "2a501277-428c-4d78-896c-b83d474dc954",
   "metadata": {},
   "outputs": [
    {
     "name": "stdout",
     "output_type": "stream",
     "text": [
      "For the input data tensor([18]) output is 47\n",
      "For the input data tensor([18, 47]) output is 56\n",
      "For the input data tensor([18, 47, 56]) output is 57\n",
      "For the input data tensor([18, 47, 56, 57]) output is 58\n",
      "For the input data tensor([18, 47, 56, 57, 58]) output is 1\n",
      "For the input data tensor([18, 47, 56, 57, 58,  1]) output is 15\n",
      "For the input data tensor([18, 47, 56, 57, 58,  1, 15]) output is 47\n",
      "For the input data tensor([18, 47, 56, 57, 58,  1, 15, 47]) output is 58\n"
     ]
    }
   ],
   "source": [
    "x = train_data[:context_length]\n",
    "y = train_data[1:context_length+1] \n",
    "for i in range(context_length): \n",
    "    context = x[:i+1]\n",
    "    target = y[i]\n",
    "    print(f'For the input data {context} output is {target}')"
   ]
  },
  {
   "cell_type": "code",
   "execution_count": 10,
   "id": "3b1fda17-51bf-4f49-8dd9-421fc21fa696",
   "metadata": {},
   "outputs": [
    {
     "name": "stdout",
     "output_type": "stream",
     "text": [
      "torch.Size([4, 8]) torch.Size([4, 8])\n",
      "tensor([[24, 43, 58,  5, 57,  1, 46, 43],\n",
      "        [44, 53, 56,  1, 58, 46, 39, 58],\n",
      "        [52, 58,  1, 58, 46, 39, 58,  1],\n",
      "        [25, 17, 27, 10,  0, 21,  1, 54]])\n",
      "tensor([[43, 58,  5, 57,  1, 46, 43, 39],\n",
      "        [53, 56,  1, 58, 46, 39, 58,  1],\n",
      "        [58,  1, 58, 46, 39, 58,  1, 46],\n",
      "        [17, 27, 10,  0, 21,  1, 54, 39]])\n",
      "for the input tensor([24]), the output is 43\n",
      "for the input tensor([24, 43]), the output is 58\n",
      "for the input tensor([24, 43, 58]), the output is 5\n",
      "for the input tensor([24, 43, 58,  5]), the output is 57\n",
      "for the input tensor([24, 43, 58,  5, 57]), the output is 1\n",
      "for the input tensor([24, 43, 58,  5, 57,  1]), the output is 46\n",
      "for the input tensor([24, 43, 58,  5, 57,  1, 46]), the output is 43\n",
      "for the input tensor([24, 43, 58,  5, 57,  1, 46, 43]), the output is 39\n",
      "for the input tensor([44]), the output is 53\n",
      "for the input tensor([44, 53]), the output is 56\n",
      "for the input tensor([44, 53, 56]), the output is 1\n",
      "for the input tensor([44, 53, 56,  1]), the output is 58\n",
      "for the input tensor([44, 53, 56,  1, 58]), the output is 46\n",
      "for the input tensor([44, 53, 56,  1, 58, 46]), the output is 39\n",
      "for the input tensor([44, 53, 56,  1, 58, 46, 39]), the output is 58\n",
      "for the input tensor([44, 53, 56,  1, 58, 46, 39, 58]), the output is 1\n",
      "for the input tensor([52]), the output is 58\n",
      "for the input tensor([52, 58]), the output is 1\n",
      "for the input tensor([52, 58,  1]), the output is 58\n",
      "for the input tensor([52, 58,  1, 58]), the output is 46\n",
      "for the input tensor([52, 58,  1, 58, 46]), the output is 39\n",
      "for the input tensor([52, 58,  1, 58, 46, 39]), the output is 58\n",
      "for the input tensor([52, 58,  1, 58, 46, 39, 58]), the output is 1\n",
      "for the input tensor([52, 58,  1, 58, 46, 39, 58,  1]), the output is 46\n",
      "for the input tensor([25]), the output is 17\n",
      "for the input tensor([25, 17]), the output is 27\n",
      "for the input tensor([25, 17, 27]), the output is 10\n",
      "for the input tensor([25, 17, 27, 10]), the output is 0\n",
      "for the input tensor([25, 17, 27, 10,  0]), the output is 21\n",
      "for the input tensor([25, 17, 27, 10,  0, 21]), the output is 1\n",
      "for the input tensor([25, 17, 27, 10,  0, 21,  1]), the output is 54\n",
      "for the input tensor([25, 17, 27, 10,  0, 21,  1, 54]), the output is 39\n"
     ]
    }
   ],
   "source": [
    "torch.random.manual_seed(1337) \n",
    "batch_size = 4 \n",
    "def get_batch(split): \n",
    "    data = {\n",
    "        'train': train_data, \n",
    "        'val': val_data,\n",
    "    }[split]\n",
    "    ix = torch.randint(0, len(data) - context_length, (batch_size,)) \n",
    "    x = torch.stack([data[i: i+context_length] for i in ix])\n",
    "    y = torch.stack([data[i+1: i+context_length+1] for i in ix])\n",
    "    return x,y \n",
    "\n",
    "xb,yb = get_batch('train') \n",
    "print(xb.shape, yb.shape)\n",
    "print(xb)\n",
    "print(yb)\n",
    "for i in range(batch_size): \n",
    "    for j in range(context_length): \n",
    "        x1 = xb[i,:j+1]\n",
    "        y1 = yb[i,j]\n",
    "        print(f'for the input {x1}, the output is {y1}')"
   ]
  },
  {
   "cell_type": "code",
   "execution_count": 11,
   "id": "de1a876c-1691-4dcc-8595-8d927269d400",
   "metadata": {},
   "outputs": [
    {
     "name": "stdout",
     "output_type": "stream",
     "text": [
      "tensor([[24, 43, 58,  5, 57,  1, 46, 43],\n",
      "        [44, 53, 56,  1, 58, 46, 39, 58],\n",
      "        [52, 58,  1, 58, 46, 39, 58,  1],\n",
      "        [25, 17, 27, 10,  0, 21,  1, 54]])\n"
     ]
    }
   ],
   "source": [
    "print(xb)"
   ]
  },
  {
   "cell_type": "code",
   "execution_count": 12,
   "id": "51a05dcf-569f-4976-854e-abfa6f3d1586",
   "metadata": {},
   "outputs": [
    {
     "name": "stdout",
     "output_type": "stream",
     "text": [
      "torch.Size([32, 65])\n",
      "tensor(4.8786, grad_fn=<NllLossBackward0>)\n",
      " -KIcLT;AcELMoTbvZv C?nq-QE33:CJqkOKH-q;:la!oiywkHjgChzbQ?u!3bLIgwevmyFJGUGp\n",
      "wnYWmnxKWWev-tDqXErVKLgJ\n"
     ]
    }
   ],
   "source": [
    "import torch \n",
    "import torch.nn as nn \n",
    "from torch.nn import functional as F \n",
    "torch.manual_seed(1337) \n",
    "\n",
    "\n",
    "# implement biagram \n",
    "class BiagramLanguageModel(nn.Module):\n",
    "    def __init__(self, vocab_size): \n",
    "        super().__init__()\n",
    "        self.token_embedding_table = nn.Embedding(vocab_size, vocab_size)\n",
    "\n",
    "    def forward(self, idx, target = None): \n",
    "        logits = self.token_embedding_table(idx) \n",
    "        if target is None: \n",
    "            loss = None\n",
    "        else: \n",
    "            B, T, C = logits.shape\n",
    "            logits = logits.view(B * T, -1) \n",
    "            target = target.view(-1) \n",
    "            loss = F.cross_entropy(logits, target) \n",
    "        return logits, loss \n",
    "\n",
    "    def generate(self, idx, max_new_tokens):\n",
    "        for _ in range(max_new_tokens): \n",
    "            logits, loss = self(idx) \n",
    "            logits = logits[:, -1, :]\n",
    "            probs = F.softmax(logits, dim = -1) \n",
    "            idx_next = torch.multinomial(probs, num_samples = 1) \n",
    "            idx = torch.cat((idx, idx_next), dim = 1)\n",
    "        return idx \n",
    "\n",
    "m = BiagramLanguageModel(vocab_size)\n",
    "logits, loss = m(xb, yb) \n",
    "print(logits.shape)\n",
    "print(loss) \n",
    "\n",
    "print(decode(m.generate(idx = torch.ones((1,1), dtype = torch.long), max_new_tokens = 100)[0].tolist()))"
   ]
  },
  {
   "cell_type": "code",
   "execution_count": 13,
   "id": "f5678bbc-16ef-4f6b-8d85-d0079d71035f",
   "metadata": {},
   "outputs": [
    {
     "name": "stdout",
     "output_type": "stream",
     "text": [
      "2.382369041442871\n"
     ]
    }
   ],
   "source": [
    "batch_size = 32\n",
    "optimizer = torch.optim.AdamW(m.parameters(), lr = 1e-3)\n",
    "for i in range(10000):\n",
    "    xb,yb = get_batch('train') \n",
    "    logits, loss = m(xb,yb) \n",
    "    optimizer.zero_grad(set_to_none = True)\n",
    "    loss.backward()\n",
    "    optimizer.step()\n",
    "print(loss.item())"
   ]
  },
  {
   "cell_type": "code",
   "execution_count": 26,
   "id": "2652df43-fe3d-4eed-bd69-087d2ed53735",
   "metadata": {},
   "outputs": [],
   "source": [
    "torch.manual_seed(1337) \n",
    "B, T, C = 4,8,2 \n",
    "xori = torch.randn((B,T,C))"
   ]
  },
  {
   "cell_type": "code",
   "execution_count": 31,
   "id": "b9632957-d8f1-48db-8290-c1feef820d9b",
   "metadata": {},
   "outputs": [
    {
     "name": "stdout",
     "output_type": "stream",
     "text": [
      "torch.Size([4, 8, 2])\n"
     ]
    }
   ],
   "source": [
    "xbow = torch.zeros(B,T,C) \n",
    "for b in range(B):\n",
    "    for t in range(T): \n",
    "        xprev = xori[b,:t+1]\n",
    "        xbow[b,t]= xprev.mean(0) \n",
    "print(xbow.shape)"
   ]
  },
  {
   "cell_type": "code",
   "execution_count": 34,
   "id": "85ed0081-5f5d-4cbc-bd10-8454c2d6d53f",
   "metadata": {},
   "outputs": [
    {
     "name": "stdout",
     "output_type": "stream",
     "text": [
      "torch.Size([4, 8, 2])\n",
      "torch.Size([8, 8])\n"
     ]
    },
    {
     "data": {
      "text/plain": [
       "True"
      ]
     },
     "execution_count": 34,
     "metadata": {},
     "output_type": "execute_result"
    }
   ],
   "source": [
    "wei = torch.tril(torch.ones(T, T)) \n",
    "wei = wei / wei.sum(1, keepdims = True) \n",
    "print(xori.shape)\n",
    "print(wei.shape)\n",
    "xbow2 = wei @ xori # (B, T, T) @ (B, T, C) -> B, T, C\n",
    "torch.allclose(xbow, xbow2) "
   ]
  },
  {
   "cell_type": "code",
   "execution_count": 38,
   "id": "48ff2c07-8cea-480d-9acc-1c88923272ec",
   "metadata": {},
   "outputs": [
    {
     "data": {
      "text/plain": [
       "True"
      ]
     },
     "execution_count": 38,
     "metadata": {},
     "output_type": "execute_result"
    }
   ],
   "source": [
    "tril = torch.tril(torch.ones(T,T)) \n",
    "wei2 = torch. ((T,T)) \n",
    "wei2 = wei2.masked_fill(tril == 0, float('-inf'))\n",
    "wei2 = torch.softmax(wei2, 1) \n",
    "xbow2 = wei2 @ xori \n",
    "torch.allclose(xbow, xbow2) "
   ]
  },
  {
   "cell_type": "code",
   "execution_count": 51,
   "id": "514cc889-8d7f-4ad8-9fbe-c8aa3ce14fbd",
   "metadata": {},
   "outputs": [
    {
     "data": {
      "text/plain": [
       "torch.Size([4, 8, 16])"
      ]
     },
     "execution_count": 51,
     "metadata": {},
     "output_type": "execute_result"
    }
   ],
   "source": [
    "B, T, C = 4, 8, 32 \n",
    "xori1 = torch.randn(B,T,C) \n",
    "head_size = 16\n",
    "query = nn.Linear(C, head_size, bias = False)\n",
    "key = nn.Linear(C, head_size, bias = False) \n",
    "value = nn.Linear(C, head_size, bias = False) \n",
    "k = key(xori1) # B, T, H\n",
    "q = query(xori1) # B, T, H\n",
    "wei4 = k @ q.transpose(-1,-2) * head_size**-0.5 # B , T , T \n",
    "\n",
    "tril =  torch.tril(torch.ones(T , T))\n",
    "wei4 = torch.masked_fill(wei4, tril == 0, float('-inf')) \n",
    "wei4 = F.softmax(wei4, dim = -1) \n",
    "\n",
    "v = value(xori1) \n",
    "out = wei4 @ v\n",
    "\n",
    "out.shape"
   ]
  },
  {
   "cell_type": "code",
   "execution_count": null,
   "id": "6334309f-f9ba-425e-a2a4-fd9e3b97383d",
   "metadata": {},
   "outputs": [],
   "source": []
  }
 ],
 "metadata": {
  "kernelspec": {
   "display_name": "Python 3 (ipykernel)",
   "language": "python",
   "name": "python3"
  },
  "language_info": {
   "codemirror_mode": {
    "name": "ipython",
    "version": 3
   },
   "file_extension": ".py",
   "mimetype": "text/x-python",
   "name": "python",
   "nbconvert_exporter": "python",
   "pygments_lexer": "ipython3",
   "version": "3.11.7"
  }
 },
 "nbformat": 4,
 "nbformat_minor": 5
}
